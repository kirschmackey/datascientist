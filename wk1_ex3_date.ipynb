{
  "nbformat": 4,
  "nbformat_minor": 0,
  "metadata": {
    "colab": {
      "name": "wk1_ex3_date.ipynb",
      "provenance": [],
      "authorship_tag": "ABX9TyOGeo1H5rB1jcFOa3sgUcnt",
      "include_colab_link": true
    },
    "kernelspec": {
      "name": "python3",
      "display_name": "Python 3"
    },
    "language_info": {
      "name": "python"
    }
  },
  "cells": [
    {
      "cell_type": "markdown",
      "metadata": {
        "id": "view-in-github",
        "colab_type": "text"
      },
      "source": [
        "<a href=\"https://colab.research.google.com/github/kirschmackey/datascientist/blob/main/wk1_ex3_date.ipynb\" target=\"_parent\"><img src=\"https://colab.research.google.com/assets/colab-badge.svg\" alt=\"Open In Colab\"/></a>"
      ]
    },
    {
      "cell_type": "code",
      "execution_count": null,
      "metadata": {
        "id": "75mLbuoH1kIz"
      },
      "outputs": [],
      "source": [
        ""
      ]
    },
    {
      "cell_type": "markdown",
      "source": [
        "# **Assignment: Flow Control Exercise 3**\n",
        "## Given a particular date, we want to write a python program that prints the next day after the given date."
      ],
      "metadata": {
        "id": "-j9p7hkX1laW"
      }
    },
    {
      "cell_type": "code",
      "source": [
        "yr = int(input('Input a year: '))\n",
        "mm = int(input('Input a month [1-12]: '))\n",
        "dd = int(input('Input a day [1-31]: '))\n",
        "\n",
        "if mm < 1 or mm > 12:\n",
        "  print(\"This is not a valid month range.\")\n",
        "elif dd < 1 or dd > 31:\n",
        "  print(\"This is not a valid date range.\")\n",
        "else:\n",
        "  print(\"The next date is [yyyy-mm-dd]\",yr,\"-\",mm,\"-\",dd+1)\n",
        "\n",
        "# not sure how to handle the case where the date is 31st."
      ],
      "metadata": {
        "colab": {
          "base_uri": "https://localhost:8080/"
        },
        "id": "GGhNtjGt10aF",
        "outputId": "076ad79e-657d-4aaf-d380-b73c1dcb7ac0"
      },
      "execution_count": 1,
      "outputs": [
        {
          "output_type": "stream",
          "name": "stdout",
          "text": [
            "Input a year: 2016\n",
            "Input a month [1-12]: 8\n",
            "Input a day [1-31]: 23\n",
            "The next date is [] 2016 - 8 - 23\n"
          ]
        }
      ]
    },
    {
      "cell_type": "code",
      "source": [
        ""
      ],
      "metadata": {
        "id": "U17UTgea43iS"
      },
      "execution_count": null,
      "outputs": []
    }
  ]
}