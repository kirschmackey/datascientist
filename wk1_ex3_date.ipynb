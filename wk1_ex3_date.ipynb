{
  "nbformat": 4,
  "nbformat_minor": 0,
  "metadata": {
    "colab": {
      "name": "wk1_ex3_date.ipynb",
      "provenance": [],
      "authorship_tag": "ABX9TyN+LJqQZ7KMph5lFdlB23fO",
      "include_colab_link": true
    },
    "kernelspec": {
      "name": "python3",
      "display_name": "Python 3"
    },
    "language_info": {
      "name": "python"
    }
  },
  "cells": [
    {
      "cell_type": "markdown",
      "metadata": {
        "id": "view-in-github",
        "colab_type": "text"
      },
      "source": [
        "<a href=\"https://colab.research.google.com/github/kirschmackey/datascientist/blob/main/wk1_ex3_date.ipynb\" target=\"_parent\"><img src=\"https://colab.research.google.com/assets/colab-badge.svg\" alt=\"Open In Colab\"/></a>"
      ]
    },
    {
      "cell_type": "code",
      "execution_count": null,
      "metadata": {
        "id": "75mLbuoH1kIz"
      },
      "outputs": [],
      "source": [
        ""
      ]
    },
    {
      "cell_type": "markdown",
      "source": [
        "# **Assignment: Flow Control Exercise 3**\n",
        "## Given a particular date, we want to write a python program that prints the next day after the given date."
      ],
      "metadata": {
        "id": "-j9p7hkX1laW"
      }
    },
    {
      "cell_type": "code",
      "source": [
        "yr = int(input('Input a year: '))\n",
        "mm = int(input('Input a month [1-12]: '))\n",
        "dd = int(input('Input a day [1-31]: '))\n",
        "\n",
        "if mm < 1 or mm > 12:\n",
        "  print(\"This is not a valid month range.\")\n",
        "elif dd < 1 or dd > 31:\n",
        "  print(\"This is not a valid date range.\")\n",
        "else:\n",
        "  print(\"The next date is [yyyy-mm-dd]\",yr,\"-\",mm,\"-\",dd+1)\n",
        "\n",
        "# not sure how to handle the case where the date is 31st."
      ],
      "metadata": {
        "colab": {
          "base_uri": "https://localhost:8080/"
        },
        "id": "GGhNtjGt10aF",
        "outputId": "076ad79e-657d-4aaf-d380-b73c1dcb7ac0"
      },
      "execution_count": null,
      "outputs": [
        {
          "output_type": "stream",
          "name": "stdout",
          "text": [
            "Input a year: 2016\n",
            "Input a month [1-12]: 8\n",
            "Input a day [1-31]: 23\n",
            "The next date is [] 2016 - 8 - 23\n"
          ]
        }
      ]
    },
    {
      "cell_type": "markdown",
      "source": [
        "# **Solution**"
      ],
      "metadata": {
        "id": "hayrdGIJ5_mn"
      }
    },
    {
      "cell_type": "code",
      "source": [
        "year = int(input(\"Input a year: \"))\n",
        "\n",
        "#test to see if year is a leap year\n",
        "if (year % 400 == 0):\n",
        "  leap_year = True\n",
        "elif (year % 100 == 0):\n",
        "  leap_year = False\n",
        "elif (year % 4 == 0):\n",
        "  leap_year = True\n",
        "else:\n",
        "  leap_year = False\n",
        "\n",
        "month = int(input(\"Input a month [1-12]: \"))\n",
        "\n",
        "#tests whether a 30-day month was entered vs a 31-day month\n",
        "if month in (1, 3, 5, 7, 8, 10, 12):\n",
        "  month_length = 31 #total number of days, 1 - 30 including \n",
        "elif month == 2: #if the month is February\n",
        "    if leap_year: #checks boolean. leap_year is type bool, so either true or false. if true then...\n",
        "      month_length = 29 #this only applies if month is februrary, as shown\n",
        "    else:\n",
        "      month_length = 28 #but if not a leap year, then february has 28 days as usual\n",
        "else:\n",
        "  month_length = 30 #finally, if none of the above conditions is true, then go with the general situation\n",
        "\n",
        "day = int(input(\"Input a day [1-31]: \"))\n",
        "\n",
        "if day < month_length: #pre-checks if day is the general last day of the month or not\n",
        "  day += 1 #if it's not the last day of the month, it's safe to add a 1\n",
        "else:\n",
        "  day = 1 #in all other cases, this means the day date is the end of the month. therefore, we must make it the first of the month\n",
        "  if month == 12: #if it's december when we found the date spill over...then...\n",
        "    month = 1 #that means it was the end of the year. spill into January\n",
        "    year += 1 #and into the new year\n",
        "  else:\n",
        "    month += 1 #but otherwise, unless the date was the last of the month, then just increase the date by 1\n",
        "print(\"The next date is [yyyy-mm-dd] %d-%d-%d.\"%(year,month,day))"
      ],
      "metadata": {
        "id": "U17UTgea43iS",
        "colab": {
          "base_uri": "https://localhost:8080/"
        },
        "outputId": "924c8d66-d0c0-4cb1-84e0-97392c652372"
      },
      "execution_count": 4,
      "outputs": [
        {
          "output_type": "stream",
          "name": "stdout",
          "text": [
            "Input a year: 2022\n",
            "Input a month [1-12]: 12\n",
            "Input a day [1-31]: 31\n",
            "The next date is [yyyy-mm-dd] 2023-1-1.\n"
          ]
        }
      ]
    },
    {
      "cell_type": "code",
      "source": [
        ""
      ],
      "metadata": {
        "id": "eskDpPoYGTYn"
      },
      "execution_count": null,
      "outputs": []
    }
  ]
}