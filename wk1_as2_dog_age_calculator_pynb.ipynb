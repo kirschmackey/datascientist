{
  "nbformat": 4,
  "nbformat_minor": 0,
  "metadata": {
    "colab": {
      "name": "wk1_as2_dog_age_calculator.pynb",
      "provenance": [],
      "authorship_tag": "ABX9TyPhNNCVIvlP+PQLnOIPe5Db",
      "include_colab_link": true
    },
    "kernelspec": {
      "name": "python3",
      "display_name": "Python 3"
    },
    "language_info": {
      "name": "python"
    }
  },
  "cells": [
    {
      "cell_type": "markdown",
      "metadata": {
        "id": "view-in-github",
        "colab_type": "text"
      },
      "source": [
        "<a href=\"https://colab.research.google.com/github/kirschmackey/datascientist/blob/main/wk1_as2_dog_age_calculator_pynb.ipynb\" target=\"_parent\"><img src=\"https://colab.research.google.com/assets/colab-badge.svg\" alt=\"Open In Colab\"/></a>"
      ]
    },
    {
      "cell_type": "code",
      "execution_count": 9,
      "metadata": {
        "id": "F5nydQgovFvt"
      },
      "outputs": [],
      "source": [
        "def human_age_to_dog_age(human_age):\n",
        "  if human_age <= 2:\n",
        "    dog_age = human_age*10.5\n",
        "  else:\n",
        "    dog_age = (human_age - 2)*4 + 21\n",
        "  return dog_age"
      ]
    },
    {
      "cell_type": "code",
      "source": [
        "human_years = int(input('Input a dog\\'s age in human years: '))\n",
        "\n",
        "print('The dog\\'s age in dog years is ',human_age_to_dog_age(human_years))"
      ],
      "metadata": {
        "colab": {
          "base_uri": "https://localhost:8080/"
        },
        "id": "G-wcZLIiw2wK",
        "outputId": "094b8e4b-3387-4014-e096-ecc0c5a0332b"
      },
      "execution_count": 10,
      "outputs": [
        {
          "output_type": "stream",
          "name": "stdout",
          "text": [
            "Input a dog's age in human years: 15\n",
            "The dog's age in dog years is  73\n"
          ]
        }
      ]
    },
    {
      "cell_type": "code",
      "source": [
        ""
      ],
      "metadata": {
        "id": "HJAmTfG7xn7-"
      },
      "execution_count": null,
      "outputs": []
    }
  ]
}