{
  "nbformat": 4,
  "nbformat_minor": 0,
  "metadata": {
    "colab": {
      "name": "wk1_as2_dog_age_calculator.pynb",
      "provenance": [],
      "authorship_tag": "ABX9TyN38d672+k99RkBXaCMCrrw",
      "include_colab_link": true
    },
    "kernelspec": {
      "name": "python3",
      "display_name": "Python 3"
    },
    "language_info": {
      "name": "python"
    }
  },
  "cells": [
    {
      "cell_type": "markdown",
      "metadata": {
        "id": "view-in-github",
        "colab_type": "text"
      },
      "source": [
        "<a href=\"https://colab.research.google.com/github/kirschmackey/datascientist/blob/main/wk1_as2_dog_age_calculator_pynb.ipynb\" target=\"_parent\"><img src=\"https://colab.research.google.com/assets/colab-badge.svg\" alt=\"Open In Colab\"/></a>"
      ]
    },
    {
      "cell_type": "code",
      "execution_count": 1,
      "metadata": {
        "id": "F5nydQgovFvt"
      },
      "outputs": [],
      "source": [
        "def human_age_to_dog_age(human_age):\n",
        "  if human_age < 0:\n",
        "    print(\"Must enter valid age!\")\n",
        "    return 0\n",
        "  elif human_age <= 2:\n",
        "    dog_age = human_age*10.5\n",
        "  else:\n",
        "    dog_age = (human_age - 2)*4 + 21\n",
        "  return dog_age"
      ]
    },
    {
      "cell_type": "code",
      "source": [
        "human_years = float(input(\"Input a dog's age in human years: \"))\n",
        "\n",
        "\n",
        "print(\"The dog's age in dog years is \",human_age_to_dog_age(human_years))"
      ],
      "metadata": {
        "colab": {
          "base_uri": "https://localhost:8080/"
        },
        "id": "G-wcZLIiw2wK",
        "outputId": "64933e0b-17f6-4a50-e809-7fd887b80eef"
      },
      "execution_count": 2,
      "outputs": [
        {
          "output_type": "stream",
          "name": "stdout",
          "text": [
            "Input a dog's age in human years: -2\n",
            "Must enter valid age!\n",
            "The dog's age in dog years is  0\n"
          ]
        }
      ]
    },
    {
      "cell_type": "code",
      "source": [
        ""
      ],
      "metadata": {
        "id": "AHgf9DA3zwLJ"
      },
      "execution_count": null,
      "outputs": []
    }
  ]
}