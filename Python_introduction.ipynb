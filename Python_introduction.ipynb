{
  "nbformat": 4,
  "nbformat_minor": 0,
  "metadata": {
    "colab": {
      "name": "Python introduction.ipynb",
      "provenance": [],
      "authorship_tag": "ABX9TyP0/vSbOuLKMNtCT6EVdT2H",
      "include_colab_link": true
    },
    "kernelspec": {
      "name": "python3",
      "display_name": "Python 3"
    },
    "language_info": {
      "name": "python"
    }
  },
  "cells": [
    {
      "cell_type": "markdown",
      "metadata": {
        "id": "view-in-github",
        "colab_type": "text"
      },
      "source": [
        "<a href=\"https://colab.research.google.com/github/kirschmackey/datascientist/blob/main/Python_introduction.ipynb\" target=\"_parent\"><img src=\"https://colab.research.google.com/assets/colab-badge.svg\" alt=\"Open In Colab\"/></a>"
      ]
    },
    {
      "cell_type": "markdown",
      "source": [
        "**bold**"
      ],
      "metadata": {
        "id": "WT-0mhIhv4p8"
      }
    },
    {
      "cell_type": "code",
      "execution_count": null,
      "metadata": {
        "id": "t0DGDMUgv3ir"
      },
      "outputs": [],
      "source": [
        "# **This is a bolder heading**"
      ]
    },
    {
      "cell_type": "markdown",
      "source": [
        "# This is a heading\n",
        "<br>\n",
        "\n",
        "# **This is a bolder heading**\n",
        "\n",
        "*this is a slanted text*"
      ],
      "metadata": {
        "id": "CWY-r533wMdz"
      }
    },
    {
      "cell_type": "code",
      "source": [
        "#this is a test"
      ],
      "metadata": {
        "id": "hlNOaEc8wB5g"
      },
      "execution_count": null,
      "outputs": []
    },
    {
      "cell_type": "code",
      "source": [
        "print('this is a pritned text inside a code cell')"
      ],
      "metadata": {
        "colab": {
          "base_uri": "https://localhost:8080/"
        },
        "id": "7hBRzcF3wp1K",
        "outputId": "f455bd87-046f-4939-fb2b-d0bf1df09557"
      },
      "execution_count": null,
      "outputs": [
        {
          "output_type": "stream",
          "name": "stdout",
          "text": [
            "this is a pritned text inside a code cell\n"
          ]
        }
      ]
    },
    {
      "cell_type": "code",
      "source": [
        ""
      ],
      "metadata": {
        "id": "pbkFj4dDxFv7"
      },
      "execution_count": null,
      "outputs": []
    }
  ]
}